{
 "cells": [
  {
   "cell_type": "markdown",
   "id": "8b24f5d3",
   "metadata": {},
   "source": [
    "# Debug"
   ]
  },
  {
   "cell_type": "code",
   "execution_count": 1,
   "id": "a81d3b10",
   "metadata": {},
   "outputs": [],
   "source": [
    "from functools import partial\n",
    "from qiskit.quantum_info import SparsePauliOp, random_statevector\n",
    "\n",
    "import scipy.sparse.linalg as ssla\n",
    "from scipy import sparse\n",
    "import pandas as pd\n",
    "import scipy\n",
    "import jax\n",
    "\n",
    "import matplotlib.pyplot as plt\n",
    "import numpy as np\n",
    "\n",
    "from utils import *\n",
    "# from lightcone import *\n",
    "from spin_ham import *\n",
    "from trotter import *\n",
    "from bounds import *\n",
    "# from noise import *\n",
    "\n",
    "figs_dir, data_dir = './figs', './data'"
   ]
  },
  {
   "cell_type": "code",
   "execution_count": null,
   "id": "979d1389",
   "metadata": {},
   "outputs": [],
   "source": [
    "# demo of the nearest-neighbor Hamiltonian\n",
    "hnn = Nearest_Neighbour_1d(3, Jx=2, Jy=2, Jz=2, hx=0, hy=0, hz=1, pbc=False, verbose=True)\n",
    "n = 8\n",
    "r = 100\n",
    "J, h = 1, 0.2\n",
    "t_list = np.linspace(1, 10, 20)\n",
    "\n",
    "hnn = Nearest_Neighbour_1d(n, Jx=J, Jy=J, Jz=J, hx=0, hy=0, hz=h, pbc=False, verbose=False)\n",
    "singl_ob = SparsePauliOp.from_sparse_list([('Z', [0], 1)], n).to_matrix()\n",
    "multi_ob = SparsePauliOp.from_sparse_list([(random.choice(['X','Y','Z']), [i], 1) for i in range(0, n)], n).to_matrix()\n",
    "multi_ob = multi_ob / np.linalg.norm(multi_ob, ord=2)\n",
    "# multi_ob = SparsePauliOp.from_sparse_list([('Z', [i], 1/n) for i in range(0, n)], n).to_matrix()\n",
    "h_list = [h.to_matrix(True) for h in hnn.ham_par]\n",
    "for t in t_list:\n",
    "    exact_U = scipy.linalg.expm(-1j * t * sum([h.to_matrix() for h in hnn.ham_par]))\n",
    "    appro_U = pf_r(h_list, t, r, order=2)\n",
    "    exact_ob_s = exact_U.conj().T @ singl_ob @ exact_U \n",
    "    appro_ob_s = appro_U.conj().T @ singl_ob @ appro_U\n",
    "    exact_ob_m = exact_U.conj().T @ multi_ob @ exact_U \n",
    "    appro_ob_m = appro_U.conj().T @ multi_ob @ appro_U\n",
    "    ob_error_s = np.linalg.norm(exact_ob_s - appro_ob_s, ord=2)\n",
    "    ob_error_m = np.linalg.norm(exact_ob_m - appro_ob_m, ord=2)\n",
    "    print('single ob error (operator norm): ', ob_error_s)\n",
    "    print('multip ob error (operator norm): ', ob_error_m)"
   ]
  },
  {
   "cell_type": "markdown",
   "id": "db037d6e",
   "metadata": {},
   "source": [
    "## Different norms"
   ]
  },
  {
   "cell_type": "code",
   "execution_count": 2,
   "id": "a554b094",
   "metadata": {},
   "outputs": [
    {
     "name": "stdout",
     "output_type": "stream",
     "text": [
      "22.627416997969508\n",
      "1.0000000000000169\n",
      "1.4649881645461555\n",
      "(-9.015010959956271e-14+4.255092054469643e-18j)\n",
      "0.0028613051827964587\n",
      "0.002861305182796463\n"
     ]
    }
   ],
   "source": [
    "from spin_ham import *\n",
    "from qiskit.quantum_info import SparsePauliOp\n",
    "import scipy, numpy\n",
    "from trotter import *\n",
    "import sys\n",
    "\n",
    "n = 9\n",
    "r = 1\n",
    "t = 0.5\n",
    "J, h = 1, 0.2\n",
    "hnn = Nearest_Neighbour_1d(n, Jx=0, Jy=0, Jz=J, hx=h, hy=0, hz=0, pbc=False, verbose=False)\n",
    "ob = SparsePauliOp.from_sparse_list([('Z', [0], 1)], n).to_matrix()\n",
    "exact_U = scipy.linalg.expm(-1j * t * sum([h.to_matrix() for h in hnn.ham_par]))\n",
    "h_list = [h.to_matrix(True) for h in hnn.ham_par]\n",
    "appro_U = pf_r(h_list, t, r, order=2)\n",
    "exact_ob_s = exact_U.conj().T @ ob @ exact_U \n",
    "appro_ob_s = appro_U.conj().T @ ob @ appro_U\n",
    "scipy.linalg.norm(exact_ob_s - appro_ob_s, ord=2)  \n",
    "print(np.linalg.norm(exact_ob_s))\n",
    "print(np.linalg.norm(appro_ob_s, ord=2))\n",
    "print(np.linalg.norm(exact_ob_s - appro_ob_s, ord='nuc'))\n",
    "print(np.trace(exact_ob_s - appro_ob_s))\n",
    "print(np.linalg.norm(exact_ob_s - appro_ob_s, ord=2))\n",
    "# np.linalg.eigvals(exact_ob_s - appro_ob_s)\n",
    "print(np.sort(abs(np.linalg.eigvalsh(exact_ob_s - appro_ob_s)))[-1])\n",
    "# exact_ob_m = exact_U.conj().T @ multi_ob @ exact_U \n",
    "# appro_ob_m = appro_U.conj().T @ multi_ob @ appro_U\n",
    "file_path = 'matrix6.txt'\n",
    "# Save the matrix to the file\n",
    "np.savetxt(file_path, exact_ob_s - appro_ob_s, delimiter=',')\n",
    "# sys.modules[__name__].__dict__.clear()\n",
    "# globals().clear()\n",
    "# %reset"
   ]
  },
  {
   "cell_type": "markdown",
   "id": "548a1723",
   "metadata": {},
   "source": [
    "## Expm (JAX and Scipy)"
   ]
  },
  {
   "cell_type": "code",
   "execution_count": 38,
   "id": "9885fb9e",
   "metadata": {},
   "outputs": [
    {
     "name": "stdout",
     "output_type": "stream",
     "text": [
      "n =  7 (128, 128)\n",
      "0.00286220803327422\n",
      "0.0006709485731051255\n",
      "n =  8 (256, 256)\n",
      "0.0028623574552221406\n",
      "0.0006716175211252401\n",
      "n =  9 (512, 512)\n",
      "0.0028626517531851192\n",
      "0.0006725913518191965\n",
      "n =  10 (1024, 1024)\n",
      "0.002862755945093186\n",
      "0.0006719952371922001\n"
     ]
    }
   ],
   "source": [
    "# from spin_ham import *\n",
    "# from trotter import *\n",
    "# import sys\n",
    "from qiskit.quantum_info import SparsePauliOp\n",
    "import scipy\n",
    "import numpy as np\n",
    "import jax\n",
    "\n",
    "t = 0.5\n",
    "J, h = 1, 0.2\n",
    "for n in [7, 8, 9, 10]:\n",
    "# for n in [7, 8, 9, 10, 11]:\n",
    "    # r = 1\n",
    "    # hnn = Nearest_Neighbour_1d(n, Jx=0, Jy=0, Jz=J, hx=h, hy=0, hz=0, pbc=False, verbose=False)\n",
    "    zz_tuples = [('ZZ', [i, i + 1], J) for i in range(0, n-1)]\n",
    "    x_tuples = [('X', [i], h) for i in range(0, n)] \n",
    "    ham = SparsePauliOp.from_sparse_list([*zz_tuples, *x_tuples], n).simplify() \n",
    "    even_terms = SparsePauliOp.from_sparse_list([*zz_tuples[::2], *x_tuples[::2]], n).simplify()\n",
    "    odd_terms = SparsePauliOp.from_sparse_list([*zz_tuples[1::2], *x_tuples[1::2]], n).simplify()\n",
    "    ham_par = [even_terms, odd_terms]\n",
    "    ob = SparsePauliOp.from_sparse_list([('Z', [0], 1)], n).to_matrix()\n",
    "    # print('ob: ', ob)\n",
    "    # exact_U = scipy.linalg.expm(-1j * t * sum([h.to_matrix() for h in hnn.ham_par]))\n",
    "    h_list = [h.to_matrix() for h in ham_par]\n",
    "    exact_U = np.matrix(jax.scipy.linalg.expm(-1j * t * sum([h for h in h_list])))\n",
    "    print('n = ', n, h_list[0].shape)\n",
    "    # for r in [1]:\n",
    "    for r in [1, 2]:\n",
    "        list_U = [jax.scipy.linalg.expm(-1j * (t / (2*r)) * h) for h in h_list]\n",
    "        # list_U = [scipy.linalg.expm(-1j * (t / (2*r)) * h) for h in h_list]\n",
    "        # if verbose: print('----expm Herm finished----')\n",
    "        # appro_U_dt_forward = np.linalg.multi_dot(list_U)\n",
    "        # appro_U_dt_reverse = np.linalg.multi_dot(list_U[::-1])\n",
    "        appro_U_dt_forward = np.matmul(list_U[0], list_U[1])\n",
    "        appro_U_dt_reverse = np.matmul(list_U[1], list_U[0])\n",
    "        # appro_U_dt_forward = list_U[0] @ list_U[1]\n",
    "        # appro_U_dt_reverse = list_U[1] @ list_U[0]\n",
    "        # appro_U_dt = list_U[0] @ list_U[1]\n",
    "        # if verbose: print('----matrix product finished----')\n",
    "        # appro_U = np.matrix(appro_U_dt_reverse @ appro_U_dt_forward)\n",
    "        appro_U = np.matrix(np.linalg.matrix_power(np.matmul(appro_U_dt_reverse, appro_U_dt_forward), r))\n",
    "        # appro_U = np.matrix(np.linalg.matrix_power(appro_U_dt_reverse @ appro_U_dt_forward, r))\n",
    "        # appro_U = np.matrix(pf_r(h_list, t, r, order=2))\n",
    "        exact_ob = np.matmul(exact_U.H, np.matmul(ob, exact_U))\n",
    "        appro_ob = np.matmul(appro_U.H, np.matmul(ob, appro_U))\n",
    "        # exact_ob = exact_U.H @ ob @ exact_U \n",
    "        # appro_ob = appro_U.H @ ob @ appro_U\n",
    "        np.allclose(exact_ob, exact_ob.conj().T)\n",
    "        np.allclose(appro_ob, appro_ob.conj().T)\n",
    "        # np.save(f'./data/exact_ob_{n}_{r}.npy', appro_U)\n",
    "\n",
    "        # appro_ob_s = appro_U.conj().T @ ob @ appro_U\n",
    "        # scipy.linalg.norm(exact_ob_s - appro_ob_s, ord=2)  \n",
    "        # print(np.linalg.norm(exact_ob_s))\n",
    "        # print(np.linalg.norm(appro_ob_s, ord=2))\n",
    "        # print(np.linalg.norm(exact_ob_s - appro_ob_s, ord='nuc'))\n",
    "        # print(np.trace(exact_ob_s - appro_ob_s))\n",
    "        # print(np.linalg.norm(exact_ob - appro_ob, ord=2))\n",
    "        err_op = exact_ob - appro_ob\n",
    "        # np.linalg.eigvals(exact_ob_s - appro_ob_s)\n",
    "        print(np.sort(abs(np.linalg.eigvalsh(err_op)))[-1])\n",
    "        # print(exact_ob[0,0], err_op[0,0], appro_ob[0,0])"
   ]
  },
  {
   "cell_type": "code",
   "execution_count": 19,
   "id": "c7b64f5d",
   "metadata": {},
   "outputs": [
    {
     "data": {
      "text/plain": [
       "array([[ 1.10876450e-01+1.05853044e-01j,  1.30322901e-02-8.83995997e-04j,\n",
       "         8.11128069e-03+2.21833848e-03j, ...,\n",
       "         1.55045368e-09-1.72222480e-09j,  8.46805621e-10-1.83576306e-09j,\n",
       "        -2.32676865e-10-1.14028224e-10j],\n",
       "       [ 1.30322901e-02-8.83995981e-04j, -1.98717539e-02+1.14135515e-01j,\n",
       "         7.77389272e-04-9.10797202e-04j, ...,\n",
       "         5.47176067e-09+2.00686959e-08j, -2.32774082e-10-1.14855037e-10j,\n",
       "         8.43216883e-10-1.83767636e-09j],\n",
       "       [ 8.11663865e-03+2.19660448e-03j,  7.77389000e-04-9.10797126e-04j,\n",
       "        -7.27762262e-02+3.25817607e-02j, ...,\n",
       "        -1.37201516e-10-2.19998177e-10j,  5.43707044e-09+2.00871026e-08j,\n",
       "         1.55395401e-09-1.72018619e-09j],\n",
       "       ...,\n",
       "       [ 1.55395401e-09-1.72018619e-09j,  5.43707044e-09+2.00871026e-08j,\n",
       "        -1.37201516e-10-2.19998177e-10j, ...,\n",
       "        -7.27762262e-02+3.25817607e-02j,  7.77389000e-04-9.10797126e-04j,\n",
       "         8.11663865e-03+2.19660448e-03j],\n",
       "       [ 8.43216883e-10-1.83767636e-09j, -2.32774082e-10-1.14855037e-10j,\n",
       "         5.47176067e-09+2.00686959e-08j, ...,\n",
       "         7.77389272e-04-9.10797202e-04j, -1.98717539e-02+1.14135515e-01j,\n",
       "         1.30322901e-02-8.83995981e-04j],\n",
       "       [-2.32676865e-10-1.14028224e-10j,  8.46805621e-10-1.83576306e-09j,\n",
       "         1.55045368e-09-1.72222480e-09j, ...,\n",
       "         8.11128069e-03+2.21833848e-03j,  1.30322901e-02-8.83995997e-04j,\n",
       "         1.10876450e-01+1.05853044e-01j]])"
      ]
     },
     "execution_count": 19,
     "metadata": {},
     "output_type": "execute_result"
    }
   ],
   "source": [
    "appro_U_18 = np.load(f'./data/exact_ob_9_1_18.npy')\n",
    "appro_U_28 = np.load(f'./data/exact_ob_9_1_28.npy')\n",
    "appro_U_85 = np.load(f'./data/exact_ob_9_1_85.npy')\n",
    "appro_U_28 - appro_U_85"
   ]
  },
  {
   "cell_type": "markdown",
   "id": "1aff310a",
   "metadata": {},
   "source": [
    "(0.9816722463159797-2.332325238166409e-17j) (-0.0012541762468709639-2.181573997780833e-17j) (0.9829264225628507-1.5075124038557586e-18j)\n",
    "\n",
    "(0.9816722463159797-2.332325238166409e-17j) (-2.1008833811508865e-06-4.2249428514288504e-17j) (0.9816743471993609+1.8926176132624414e-17j)\n",
    "\n",
    "0.0171\n",
    "(0.9816722463159797-2.332325238166409e-17j) (0.000914037141718782-1.882305977087255e-17j) (0.9807582091742609-4.500192610791541e-18j)"
   ]
  },
  {
   "cell_type": "code",
   "execution_count": null,
   "id": "67fabd92",
   "metadata": {},
   "outputs": [
    {
     "data": {
      "text/plain": [
       "array([[-1.254176e-03-2.181574e-17j,  6.357182e-03-4.164055e-03j,\n",
       "         1.916763e-05-1.260949e-05j, ...,  1.138114e-13+1.771224e-14j,\n",
       "         2.546533e-14-2.143273e-15j, -3.808590e-24-1.113026e-14j],\n",
       "       [ 6.357182e-03+4.164055e-03j,  1.250334e-03-1.912847e-17j,\n",
       "        -3.839087e-04+1.884769e-03j, ..., -4.872551e-14-2.846347e-13j,\n",
       "         6.187315e-24+1.218178e-15j, -2.546533e-14-2.143273e-15j],\n",
       "       [ 1.916763e-05+1.260949e-05j, -3.839087e-04-1.884769e-03j,\n",
       "        -1.263336e-03+4.499314e-17j, ...,  4.909774e-24+1.084614e-14j,\n",
       "         4.872551e-14-2.846347e-13j, -1.138114e-13+1.771224e-14j],\n",
       "       ...,\n",
       "       [ 1.138114e-13-1.771224e-14j, -4.872551e-14+2.846347e-13j,\n",
       "         4.909774e-24-1.084614e-14j, ...,  1.263336e-03+6.588282e-18j,\n",
       "         3.839087e-04+1.884769e-03j, -1.916763e-05-1.260949e-05j],\n",
       "       [ 2.546533e-14+2.143273e-15j,  6.187315e-24-1.218178e-15j,\n",
       "         4.872551e-14+2.846347e-13j, ...,  3.839087e-04-1.884769e-03j,\n",
       "        -1.250334e-03-3.024805e-18j, -6.357182e-03-4.164055e-03j],\n",
       "       [-3.808590e-24+1.113026e-14j, -2.546533e-14+2.143273e-15j,\n",
       "        -1.138114e-13-1.771224e-14j, ..., -1.916763e-05+1.260949e-05j,\n",
       "        -6.357182e-03+4.164055e-03j,  1.254176e-03-3.349013e-18j]])"
      ]
     },
     "execution_count": 55,
     "metadata": {},
     "output_type": "execute_result"
    }
   ],
   "source": [
    "exact_ob_s - appro_ob_s"
   ]
  },
  {
   "cell_type": "markdown",
   "id": "22326277",
   "metadata": {},
   "source": [
    "### Worst input (largest singular value)"
   ]
  },
  {
   "cell_type": "code",
   "execution_count": null,
   "id": "18fb16f3",
   "metadata": {},
   "outputs": [
    {
     "name": "stdout",
     "output_type": "stream",
     "text": [
      "spectral norm by definition:  (1.9998095531513846+0j)\n",
      "largest eigenval:  2.8340126451426553\n",
      "largest singular value:  1.9998095531513838\n",
      "1.9998095531513842\n",
      "1.9998095531513846\n",
      "spectral norm by numpy:  1.9998095531513846\n"
     ]
    }
   ],
   "source": [
    "appro_U = scipy.linalg.expm(-1j * 1 * sum([h.to_matrix() for h in tfi.ham_parity]))\n",
    "M = exact_U - appro_U\n",
    "# np.linalg.eigh(M)\n",
    "print('spectral norm by definition: ', sqrt(np.linalg.eigh(M.conj().T @ M)[0][-1]))\n",
    "print('largest eigenval: ', np.linalg.eigh(M)[0][-1])\n",
    "# np.linalg.norm(np.linalg.eigh(exact_U - appro_U)[1][-1], ord=2)\n",
    "# np.linalg.norm(exact_U - appro_U, ord=-2)\n",
    "U, S, V = np.linalg.svd(M)\n",
    "print('largest singular value: ', S[0])\n",
    "# print(V[0])\n",
    "norm(V[0])\n",
    "print(norm(M @ V[0].conj().T))\n",
    "print(norm(M @ V[0]))\n",
    "# print(norm(M @ np.linalg.eigh(M)[1][-1]).conj().T)\n",
    "print('spectral norm by numpy: ', np.linalg.norm(M, ord=2))\n",
    "# sorted(S)"
   ]
  },
  {
   "cell_type": "markdown",
   "id": "d2c3c6cb",
   "metadata": {},
   "source": [
    "### l2 induced norm"
   ]
  },
  {
   "cell_type": "code",
   "execution_count": null,
   "id": "3b3e8997",
   "metadata": {},
   "outputs": [],
   "source": [
    "import scipy.linalg\n",
    "\n",
    "t = 3.5\n",
    "n = 6\n",
    "h_test = sum([SparsePauliOp.from_sparse_list([(random.choices(['I','X','Y','Z'], k=n), random.sample(list(range(0, n)), n), 1)], n) for _ in range(5)])\n",
    "h_test_I = h_test + SparsePauliOp('I'*n)\n",
    "print(h_test, h_test_I)\n",
    "np.linalg.norm(scipy.linalg.expm(-1j * t * h_test) - scipy.linalg.expm(-1j * t * h_test_I), ord=2)"
   ]
  }
 ],
 "metadata": {
  "kernelspec": {
   "display_name": "Python 3.8.8 ('base')",
   "language": "python",
   "name": "python3"
  },
  "language_info": {
   "codemirror_mode": {
    "name": "ipython",
    "version": 3
   },
   "file_extension": ".py",
   "mimetype": "text/x-python",
   "name": "python",
   "nbconvert_exporter": "python",
   "pygments_lexer": "ipython3",
   "version": "3.1.undefined"
  },
  "vscode": {
   "interpreter": {
    "hash": "4e8ef2f9fcac0817bca9a7ca376f64f20b4df5ea3bf7af756a50bda7d3557ea6"
   }
  }
 },
 "nbformat": 4,
 "nbformat_minor": 5
}
